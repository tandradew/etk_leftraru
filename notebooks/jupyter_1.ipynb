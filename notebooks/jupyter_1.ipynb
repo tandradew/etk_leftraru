{
 "cells": [
  {
   "cell_type": "markdown",
   "id": "3b938be7",
   "metadata": {},
   "source": [
    "## Hello world!"
   ]
  },
  {
   "cell_type": "code",
   "execution_count": 1,
   "id": "b553a53d",
   "metadata": {},
   "outputs": [
    {
     "name": "stdout",
     "output_type": "stream",
     "text": [
      "hello world\n"
     ]
    }
   ],
   "source": [
    "print('hello world')"
   ]
  },
  {
   "cell_type": "markdown",
   "id": "6c79599c",
   "metadata": {},
   "source": [
    "## Variables and lists  "
   ]
  },
  {
   "cell_type": "code",
   "execution_count": 2,
   "id": "dd4214b7",
   "metadata": {},
   "outputs": [],
   "source": [
    "a = 1"
   ]
  },
  {
   "cell_type": "code",
   "execution_count": 3,
   "id": "ee235a1e",
   "metadata": {},
   "outputs": [
    {
     "data": {
      "text/plain": [
       "1"
      ]
     },
     "execution_count": 3,
     "metadata": {},
     "output_type": "execute_result"
    }
   ],
   "source": [
    "a"
   ]
  },
  {
   "cell_type": "code",
   "execution_count": 4,
   "id": "d7722587",
   "metadata": {},
   "outputs": [],
   "source": [
    "# this is a list\n",
    "ls = [1, 2, 3]"
   ]
  },
  {
   "cell_type": "code",
   "execution_count": 5,
   "id": "25e5aa80",
   "metadata": {},
   "outputs": [
    {
     "data": {
      "text/plain": [
       "[1, 2, 3]"
      ]
     },
     "execution_count": 5,
     "metadata": {},
     "output_type": "execute_result"
    }
   ],
   "source": [
    "ls"
   ]
  },
  {
   "cell_type": "code",
   "execution_count": 6,
   "id": "44141bc6",
   "metadata": {},
   "outputs": [
    {
     "name": "stdout",
     "output_type": "stream",
     "text": [
      "1\n",
      "2\n",
      "3\n"
     ]
    }
   ],
   "source": [
    "for item in ls:\n",
    "    print(item)"
   ]
  },
  {
   "cell_type": "code",
   "execution_count": 7,
   "id": "96adfdde",
   "metadata": {},
   "outputs": [],
   "source": [
    "a = 1\n",
    "b = 2"
   ]
  },
  {
   "cell_type": "code",
   "execution_count": 8,
   "id": "b276e007",
   "metadata": {},
   "outputs": [
    {
     "data": {
      "text/plain": [
       "3"
      ]
     },
     "execution_count": 8,
     "metadata": {},
     "output_type": "execute_result"
    }
   ],
   "source": [
    "a + b"
   ]
  },
  {
   "cell_type": "code",
   "execution_count": 9,
   "id": "f6ac1850",
   "metadata": {},
   "outputs": [],
   "source": [
    "A = '1'\n",
    "B = '2'"
   ]
  },
  {
   "cell_type": "code",
   "execution_count": 10,
   "id": "f2f0ce52",
   "metadata": {},
   "outputs": [
    {
     "data": {
      "text/plain": [
       "'12'"
      ]
     },
     "execution_count": 10,
     "metadata": {},
     "output_type": "execute_result"
    }
   ],
   "source": [
    "A+B"
   ]
  },
  {
   "cell_type": "markdown",
   "id": "2f13c3c6",
   "metadata": {},
   "source": [
    "# numpy"
   ]
  },
  {
   "cell_type": "code",
   "execution_count": 1,
   "id": "868fa09e",
   "metadata": {},
   "outputs": [],
   "source": [
    "#package to handle arrays\n",
    "import numpy as np"
   ]
  },
  {
   "cell_type": "code",
   "execution_count": 12,
   "id": "e29dfd79",
   "metadata": {},
   "outputs": [],
   "source": [
    "y = np.array([1,2,3,4,5])"
   ]
  },
  {
   "cell_type": "code",
   "execution_count": 13,
   "id": "07ba4f28",
   "metadata": {},
   "outputs": [
    {
     "data": {
      "text/plain": [
       "array([1, 2, 3, 4, 5])"
      ]
     },
     "execution_count": 13,
     "metadata": {},
     "output_type": "execute_result"
    }
   ],
   "source": [
    "y"
   ]
  },
  {
   "cell_type": "code",
   "execution_count": 14,
   "id": "7be138ae",
   "metadata": {},
   "outputs": [],
   "source": [
    "ls1 = [1,2,3]\n",
    "ls2 = [4,5,6]"
   ]
  },
  {
   "cell_type": "code",
   "execution_count": 15,
   "id": "4f2bb2a4",
   "metadata": {},
   "outputs": [],
   "source": [
    "arr1 = np.array([1,2,3])\n",
    "arr2 = np.array([4,5,6])"
   ]
  },
  {
   "cell_type": "code",
   "execution_count": 16,
   "id": "a1e7bef9",
   "metadata": {},
   "outputs": [
    {
     "data": {
      "text/plain": [
       "[1, 2, 3, 4, 5, 6]"
      ]
     },
     "execution_count": 16,
     "metadata": {},
     "output_type": "execute_result"
    }
   ],
   "source": [
    "ls1 + ls2"
   ]
  },
  {
   "cell_type": "code",
   "execution_count": 17,
   "id": "c9a88f98",
   "metadata": {},
   "outputs": [
    {
     "data": {
      "text/plain": [
       "array([5, 7, 9])"
      ]
     },
     "execution_count": 17,
     "metadata": {},
     "output_type": "execute_result"
    }
   ],
   "source": [
    "arr1 + arr2"
   ]
  },
  {
   "cell_type": "code",
   "execution_count": 18,
   "id": "eedbf85c",
   "metadata": {},
   "outputs": [
    {
     "data": {
      "text/plain": [
       "array([[1, 2, 3],\n",
       "       [4, 5, 6]])"
      ]
     },
     "execution_count": 18,
     "metadata": {},
     "output_type": "execute_result"
    }
   ],
   "source": [
    "np.vstack([arr1,arr2])"
   ]
  },
  {
   "cell_type": "code",
   "execution_count": 19,
   "id": "6b707413",
   "metadata": {},
   "outputs": [
    {
     "data": {
      "text/plain": [
       "array([1, 2, 3, 4, 5, 6])"
      ]
     },
     "execution_count": 19,
     "metadata": {},
     "output_type": "execute_result"
    }
   ],
   "source": [
    "np.hstack([arr1,arr2])"
   ]
  },
  {
   "cell_type": "code",
   "execution_count": 20,
   "id": "9ae791ef",
   "metadata": {},
   "outputs": [
    {
     "data": {
      "text/plain": [
       "(3,)"
      ]
     },
     "execution_count": 20,
     "metadata": {},
     "output_type": "execute_result"
    }
   ],
   "source": [
    "arr1.shape"
   ]
  },
  {
   "cell_type": "code",
   "execution_count": 21,
   "id": "d7d6dabe",
   "metadata": {},
   "outputs": [
    {
     "ename": "AttributeError",
     "evalue": "'list' object has no attribute 'shape'",
     "output_type": "error",
     "traceback": [
      "\u001b[0;31m---------------------------------------------------------------------------\u001b[0m",
      "\u001b[0;31mAttributeError\u001b[0m                            Traceback (most recent call last)",
      "\u001b[0;32m<ipython-input-21-c1248ea306ee>\u001b[0m in \u001b[0;36m<module>\u001b[0;34m\u001b[0m\n\u001b[0;32m----> 1\u001b[0;31m \u001b[0mls1\u001b[0m\u001b[0;34m.\u001b[0m\u001b[0mshape\u001b[0m\u001b[0;34m\u001b[0m\u001b[0;34m\u001b[0m\u001b[0m\n\u001b[0m",
      "\u001b[0;31mAttributeError\u001b[0m: 'list' object has no attribute 'shape'"
     ]
    }
   ],
   "source": [
    "ls1.shape"
   ]
  },
  {
   "cell_type": "code",
   "execution_count": 22,
   "id": "acc68ba5",
   "metadata": {},
   "outputs": [
    {
     "data": {
      "text/plain": [
       "3"
      ]
     },
     "execution_count": 22,
     "metadata": {},
     "output_type": "execute_result"
    }
   ],
   "source": [
    "#dir(arr1)\n",
    "arr1.max()"
   ]
  },
  {
   "cell_type": "markdown",
   "id": "e50e66d7",
   "metadata": {},
   "source": [
    "## matplotlib"
   ]
  },
  {
   "cell_type": "code",
   "execution_count": 8,
   "id": "55df333e",
   "metadata": {},
   "outputs": [],
   "source": [
    "#package for plotting\n",
    "import matplotlib.pyplot as plt"
   ]
  },
  {
   "cell_type": "code",
   "execution_count": 24,
   "id": "7da1cae2",
   "metadata": {},
   "outputs": [
    {
     "data": {
      "image/png": "[encoded data removed]",
      "text/plain": [
       "<Figure size 432x288 with 1 Axes>"
      ]
     },
     "metadata": {
      "needs_background": "light"
     },
     "output_type": "display_data"
    }
   ],
   "source": [
    "plt.plot(y);"
   ]
  },
  {
   "cell_type": "code",
   "execution_count": 25,
   "id": "6cf45ba0",
   "metadata": {},
   "outputs": [],
   "source": [
    "t = np.linspace(-2*np.pi, 2*np.pi, num = 100)"
   ]
  },
  {
   "cell_type": "code",
   "execution_count": 26,
   "id": "42eb9360",
   "metadata": {},
   "outputs": [
    {
     "data": {
      "image/png": "[encoded data removed]",
      "text/plain": [
       "<Figure size 432x288 with 1 Axes>"
      ]
     },
     "metadata": {
      "needs_background": "light"
     },
     "output_type": "display_data"
    }
   ],
   "source": [
    "plt.plot(t, np.cos(t), label = 'cos')\n",
    "plt.plot(t, np.sin(t), label = 'sin')\n",
    "plt.legend();"
   ]
  },
  {
   "cell_type": "markdown",
   "id": "857f1b39",
   "metadata": {},
   "source": [
    "## a lil' bit of magic"
   ]
  },
  {
   "cell_type": "code",
   "execution_count": 31,
   "id": "3b458ea2",
   "metadata": {},
   "outputs": [
    {
     "name": "stdout",
     "output_type": "stream",
     "text": [
      "jupyter_1.ipynb\r\n"
     ]
    }
   ],
   "source": [
    "%ls"
   ]
  },
  {
   "cell_type": "markdown",
   "id": "cd020060",
   "metadata": {},
   "source": [
    "## creating text files"
   ]
  },
  {
   "cell_type": "code",
   "execution_count": 32,
   "id": "3e6335a3",
   "metadata": {},
   "outputs": [],
   "source": [
    "%%bash\n",
    "cat > my_new_parfile.par << \"#EOF\"\n",
    "\n",
    "this is a parfile\n",
    "thorn::value = 1\n",
    "another_thorn::other_param = False\n",
    "#EOF"
   ]
  },
  {
   "cell_type": "markdown",
   "id": "7d9b7dbe",
   "metadata": {},
   "source": [
    "## Import data"
   ]
  },
  {
   "cell_type": "code",
   "execution_count": 2,
   "id": "20da71c8",
   "metadata": {},
   "outputs": [
    {
     "name": "stdout",
     "output_type": "stream",
     "text": [
      "BBHMedRes_Tomas.par                  mp_psi4_l2_m2_r40.00.asc\r\n",
      "BH_diagnostics.ah1.gp                mp_psi4_l2_m2_r50.00.asc\r\n",
      "BH_diagnostics.ah2.gp                mp_psi4_l2_m2_r60.00.asc\r\n",
      "BH_diagnostics.ah3.gp                mp_psi4_l4_m4_r30.00.asc\r\n",
      "TwoPunctures.bbh                     mp_psi4_l4_m4_r40.00.asc\r\n",
      "carpet-grid-coordinates              mp_psi4_l4_m4_r50.00.asc\r\n",
      "carpet-grid-structure                mp_psi4_l4_m4_r60.00.asc\r\n",
      "carpet-timing..asc                   puncturetracker-pt_loc..asc\r\n",
      "carpetlib-memory-statistics          quasilocalmeasures-qlm_scalars..asc\r\n",
      "mp_psi4_l2_m2_r30.00.asc\r\n"
     ]
    }
   ],
   "source": [
    "%ls ../simulations/BBHMedRes"
   ]
  },
  {
   "cell_type": "code",
   "execution_count": 9,
   "id": "937ca29b",
   "metadata": {},
   "outputs": [],
   "source": [
    "file = 'grhydro-dens.maximum.asc'\n",
    "\n",
    "it, t, rho_max = np.loadtxt('grhydro-dens.maximum.asc', unpack = True)"
   ]
  },
  {
   "cell_type": "code",
   "execution_count": 10,
   "id": "55bee1c5",
   "metadata": {},
   "outputs": [],
   "source": [
    "plt.plot(t, rho_max)"
   ]
  },
  {
   "cell_type": "code",
   "execution_count": null,
   "id": "47a4f541",
   "metadata": {},
   "outputs": [],
   "source": []
  }
 ],
 "metadata": {
  "kernelspec": {
   "display_name": "Python 3",
   "language": "python",
   "name": "python3"
  },
  "language_info": {
   "codemirror_mode": {
    "name": "ipython",
    "version": 3
   },
   "file_extension": ".py",
   "mimetype": "text/x-python",
   "name": "python",
   "nbconvert_exporter": "python",
   "pygments_lexer": "ipython3",
   "version": "3.7.4"
  }
 },
 "nbformat": 4,
 "nbformat_minor": 5
}
